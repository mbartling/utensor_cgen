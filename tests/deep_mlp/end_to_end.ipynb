{
 "cells": [
  {
   "cell_type": "markdown",
   "metadata": {},
   "source": [
    "## Import"
   ]
  },
  {
   "cell_type": "code",
   "execution_count": 1,
   "metadata": {
    "ExecuteTime": {
     "end_time": "2018-02-24T05:50:05.415394Z",
     "start_time": "2018-02-24T05:50:00.898531Z"
    }
   },
   "outputs": [
    {
     "name": "stderr",
     "output_type": "stream",
     "text": [
      "/usr/local/Cellar/python3/3.6.3/Frameworks/Python.framework/Versions/3.6/lib/python3.6/importlib/_bootstrap.py:219: RuntimeWarning: compiletime version 3.5 of module 'tensorflow.python.framework.fast_tensor_util' does not match runtime version 3.6\n",
      "  return f(*args, **kwds)\n",
      "/usr/local/lib/python3.6/site-packages/h5py/__init__.py:36: FutureWarning: Conversion of the second argument of issubdtype from `float` to `np.floating` is deprecated. In future, it will be treated as `np.float64 == np.dtype(float).type`.\n",
      "  from ._conv import register_converters as _register_converters\n"
     ]
    }
   ],
   "source": [
    "import tensorflow as tf\n",
    "from tensorflow.python.framework import graph_util\n",
    "from tensorflow.examples.tutorials.mnist.input_data import read_data_sets"
   ]
  },
  {
   "cell_type": "code",
   "execution_count": 2,
   "metadata": {
    "ExecuteTime": {
     "end_time": "2018-02-24T05:50:07.201478Z",
     "start_time": "2018-02-24T05:50:07.197252Z"
    }
   },
   "outputs": [
    {
     "name": "stdout",
     "output_type": "stream",
     "text": [
      "1.4.1\n"
     ]
    }
   ],
   "source": [
    "print(tf.__version__)"
   ]
  },
  {
   "cell_type": "code",
   "execution_count": 3,
   "metadata": {
    "ExecuteTime": {
     "end_time": "2018-02-24T05:50:09.096685Z",
     "start_time": "2018-02-24T05:50:08.464293Z"
    }
   },
   "outputs": [
    {
     "name": "stdout",
     "output_type": "stream",
     "text": [
      "Extracting data/train-images-idx3-ubyte.gz\n",
      "Extracting data/train-labels-idx1-ubyte.gz\n",
      "Extracting data/t10k-images-idx3-ubyte.gz\n",
      "Extracting data/t10k-labels-idx1-ubyte.gz\n"
     ]
    }
   ],
   "source": [
    "mnist = read_data_sets('data', one_hot=True)"
   ]
  },
  {
   "cell_type": "markdown",
   "metadata": {},
   "source": [
    "## Define Graph and Training"
   ]
  },
  {
   "cell_type": "code",
   "execution_count": 4,
   "metadata": {
    "ExecuteTime": {
     "end_time": "2018-02-24T05:50:12.267411Z",
     "start_time": "2018-02-24T05:50:12.257560Z"
    }
   },
   "outputs": [],
   "source": [
    "def weight_variable(shape, name):\n",
    "    \"\"\"weight_variable generates a weight variable of a given shape.\"\"\"\n",
    "    initial = tf.truncated_normal(shape, stddev=0.1)\n",
    "    return tf.Variable(initial, name)\n",
    "\n",
    "\n",
    "def bias_variable(shape, name):\n",
    "    \"\"\"bias_variable generates a bias variable of a given shape.\"\"\"\n",
    "    initial = tf.constant(0.1, shape=shape)\n",
    "    return tf.Variable(initial, name)"
   ]
  },
  {
   "cell_type": "code",
   "execution_count": 14,
   "metadata": {
    "ExecuteTime": {
     "end_time": "2018-02-24T05:54:24.514188Z",
     "start_time": "2018-02-24T05:54:24.180981Z"
    }
   },
   "outputs": [],
   "source": [
    "graph = tf.Graph()\n",
    "\n",
    "with graph.as_default():\n",
    "    x = tf.placeholder(tf.float32, [None, 784], name=\"x\")\n",
    "    y = tf.placeholder(tf.float32, [None, 10], name=\"y\")\n",
    "\n",
    "    with tf.name_scope(\"Layer1\"):\n",
    "        W_fc1 = weight_variable([784, 128], name='W_fc1')\n",
    "        b_fc1 = bias_variable([128], name='b_fc1')\n",
    "        a_fc1 = tf.add(tf.matmul(x, W_fc1), b_fc1, name=\"zscore\")\n",
    "        h_fc1 = tf.nn.relu(a_fc1)\n",
    "    with tf.name_scope(\"Layer2\"):\n",
    "        W_fc2 = weight_variable([128, 64], name='W_fc2')\n",
    "        b_fc2 = bias_variable([64], name='b_fc2')\n",
    "        a_fc2 = tf.add(tf.matmul(h_fc1, W_fc2), b_fc2, name=\"zscore\")\n",
    "        h_fc2 = tf.nn.relu(a_fc2)\n",
    "    with tf.name_scope(\"OuputLayer\"):\n",
    "        W_fc3 = weight_variable([64, 10], name='W_fc3')\n",
    "        b_fc3 = bias_variable([10], name='b_fc3')\n",
    "        logits = tf.add(tf.matmul(h_fc2, W_fc3), b_fc3, name=\"logits\")\n",
    "    y_pred = tf.argmax(logits, 1, name='y_pred')\n",
    "        \n",
    "    with tf.name_scope(\"Loss\"):\n",
    "        cross_entropy = tf.nn.softmax_cross_entropy_with_logits(labels=y, \n",
    "                                                                logits=logits)\n",
    "        loss = tf.reduce_mean(cross_entropy, name=\"cross_entropy_loss\")\n",
    "    \n",
    "    train_step = tf.train.AdamOptimizer(1e-4).minimize(loss, name=\"train_step\")\n",
    "    \n",
    "    with tf.name_scope(\"Prediction\"): \n",
    "        correct_prediction = tf.equal(y_pred, \n",
    "                                      tf.argmax(y, 1))\n",
    "        accuracy = tf.reduce_mean(tf.cast(correct_prediction, tf.float32), name=\"accuracy\")"
   ]
  },
  {
   "cell_type": "code",
   "execution_count": 15,
   "metadata": {
    "ExecuteTime": {
     "end_time": "2018-02-24T05:55:15.363832Z",
     "start_time": "2018-02-24T05:54:35.999688Z"
    }
   },
   "outputs": [
    {
     "name": "stdout",
     "output_type": "stream",
     "text": [
      "step 1000, training accuracy 0.9\n",
      "step 2000, training accuracy 0.96\n",
      "step 3000, training accuracy 0.94\n",
      "step 4000, training accuracy 0.98\n",
      "step 5000, training accuracy 0.94\n",
      "step 6000, training accuracy 0.92\n",
      "step 7000, training accuracy 0.96\n",
      "step 8000, training accuracy 0.94\n",
      "step 9000, training accuracy 0.94\n",
      "step 10000, training accuracy 0.94\n",
      "step 11000, training accuracy 0.98\n",
      "step 12000, training accuracy 0.94\n",
      "step 13000, training accuracy 0.98\n",
      "step 14000, training accuracy 0.92\n",
      "step 15000, training accuracy 0.96\n",
      "step 16000, training accuracy 0.96\n",
      "step 17000, training accuracy 1\n",
      "step 18000, training accuracy 0.98\n",
      "step 19000, training accuracy 1\n",
      "step 20000, training accuracy 1\n",
      "test accuracy 0.9726\n"
     ]
    }
   ],
   "source": [
    "with tf.Session(graph=graph) as sess:\n",
    "    sess.run(tf.global_variables_initializer())\n",
    "    saver = tf.train.Saver()\n",
    "\n",
    "    for i in range(1, 20001):\n",
    "        images, labels = mnist.train.next_batch(50)\n",
    "        train_step.run(feed_dict={x: images, y: labels})\n",
    "        if i % 1000 == 0:\n",
    "            train_accuracy = accuracy.eval(feed_dict={x: images, y: labels})\n",
    "            print('step %d, training accuracy %g' % (i, train_accuracy))\n",
    "    print('test accuracy %g' % accuracy.eval(feed_dict={x: mnist.test.images, y: mnist.test.labels}))\n",
    "    chkp_path = saver.save(sess, \"./my-model/model.ckpt\")"
   ]
  },
  {
   "cell_type": "code",
   "execution_count": 16,
   "metadata": {
    "ExecuteTime": {
     "end_time": "2018-02-24T05:55:15.369707Z",
     "start_time": "2018-02-24T05:55:15.365723Z"
    }
   },
   "outputs": [
    {
     "data": {
      "text/plain": [
       "'./my-model/model.ckpt'"
      ]
     },
     "execution_count": 16,
     "metadata": {},
     "output_type": "execute_result"
    }
   ],
   "source": [
    "chkp_path"
   ]
  },
  {
   "cell_type": "markdown",
   "metadata": {},
   "source": [
    "## Remove Training Nodes and Freeze Graph"
   ]
  },
  {
   "cell_type": "code",
   "execution_count": 21,
   "metadata": {
    "ExecuteTime": {
     "end_time": "2018-02-24T05:57:00.706986Z",
     "start_time": "2018-02-24T05:57:00.370946Z"
    }
   },
   "outputs": [
    {
     "name": "stdout",
     "output_type": "stream",
     "text": [
      "INFO:tensorflow:Restoring parameters from ./my-model/model.ckpt\n",
      "INFO:tensorflow:Froze 6 variables.\n",
      "Converted 6 variables to const ops.\n"
     ]
    }
   ],
   "source": [
    "with tf.Session(graph=graph) as sess:\n",
    "    saver.restore(sess, chkp_path)\n",
    "    out_nodes = [y_pred.op.name]\n",
    "    sub_graph_def = graph_util.remove_training_nodes(sess.graph_def)\n",
    "    sub_graph_def = graph_util.convert_variables_to_constants(sess, sub_graph_def, out_nodes)"
   ]
  },
  {
   "cell_type": "code",
   "execution_count": 22,
   "metadata": {
    "ExecuteTime": {
     "end_time": "2018-02-24T06:00:05.768959Z",
     "start_time": "2018-02-24T06:00:05.755512Z"
    }
   },
   "outputs": [
    {
     "name": "stdout",
     "output_type": "stream",
     "text": [
      "written graph to: ./my-model/simple_mnist.pb\n"
     ]
    }
   ],
   "source": [
    "# save freezed graph\n",
    "graph_path = tf.train.write_graph(sub_graph_def, \n",
    "                                  \"./my-model\", \"simple_mnist.pb\", \n",
    "                                  as_text=False)\n",
    "print('written graph to: %s' % graph_path)"
   ]
  },
  {
   "cell_type": "markdown",
   "metadata": {},
   "source": [
    "## Quantization"
   ]
  },
  {
   "cell_type": "code",
   "execution_count": 23,
   "metadata": {
    "ExecuteTime": {
     "end_time": "2018-02-24T06:00:37.257446Z",
     "start_time": "2018-02-24T06:00:37.254194Z"
    }
   },
   "outputs": [],
   "source": [
    "# with TransformGraph\n",
    "from tensorflow.tools.graph_transforms import TransformGraph"
   ]
  },
  {
   "cell_type": "code",
   "execution_count": 26,
   "metadata": {
    "ExecuteTime": {
     "end_time": "2018-02-24T06:02:54.027592Z",
     "start_time": "2018-02-24T06:02:53.988761Z"
    }
   },
   "outputs": [],
   "source": [
    "quant_graph_def = TransformGraph(sub_graph_def, [], out_nodes, \n",
    "                                 [\"quantize_weights\", \"quantize_nodes\", \"sort_by_execution_order\"])"
   ]
  },
  {
   "cell_type": "code",
   "execution_count": 28,
   "metadata": {
    "ExecuteTime": {
     "end_time": "2018-02-24T06:03:18.036982Z",
     "start_time": "2018-02-24T06:03:18.015002Z"
    }
   },
   "outputs": [],
   "source": [
    "with tf.gfile.FastGFile('my-model/quant_mnist.pb', 'wb') as fid:\n",
    "    fid.write(quant_graph_def.SerializeToString())"
   ]
  },
  {
   "cell_type": "code",
   "execution_count": null,
   "metadata": {},
   "outputs": [],
   "source": []
  }
 ],
 "metadata": {
  "kernelspec": {
   "display_name": "Python 3",
   "language": "python",
   "name": "python3"
  },
  "language_info": {
   "codemirror_mode": {
    "name": "ipython",
    "version": 3
   },
   "file_extension": ".py",
   "mimetype": "text/x-python",
   "name": "python",
   "nbconvert_exporter": "python",
   "pygments_lexer": "ipython3",
   "version": "3.6.3"
  },
  "toc": {
   "nav_menu": {},
   "number_sections": true,
   "sideBar": true,
   "skip_h1_title": false,
   "toc_cell": false,
   "toc_position": {},
   "toc_section_display": "block",
   "toc_window_display": false
  }
 },
 "nbformat": 4,
 "nbformat_minor": 2
}
